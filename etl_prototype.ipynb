{
 "cells": [
  {
   "cell_type": "code",
   "execution_count": 1,
   "metadata": {
    "collapsed": true
   },
   "outputs": [
    {
     "data": {
      "text/plain": [
       "'\\n<tr class=\"server-list__row\">\\n<td class=\"server-list__row-cell\"> # world below\\n<a class=\"server-list__world-link\" href=\"https://oldschool.runescape.com/game?world=468\" id=\"slu-world-468\">OldSchool 168</a>\\n</td>\\n<td class=\"server-list__row-cell\">85 players</td> # players\\n<td class=\"server-list__row-cell server-list__row-cell--country server-list__row-cell--US\">United States</td> # location\\n<td class=\"server-list__row-cell server-list__row-cell--type\">Free</td> # type\\n<td class=\"server-list__row-cell\">500 skill total</td> # activity\\n</tr>\\n'"
      ]
     },
     "execution_count": 1,
     "metadata": {},
     "output_type": "execute_result"
    }
   ],
   "source": [
    "# world, players, location, type, activity\n",
    "\n",
    "# 1 - extract 'world', 'location', 'type', 'activity'\n",
    "# 2 - extract 'world', 'datetime', 'players'"
   ]
  },
  {
   "cell_type": "code",
   "execution_count": 27,
   "metadata": {},
   "outputs": [],
   "source": [
    "import numpy as np\n",
    "import pandas as pd\n",
    "import re\n",
    "\n",
    "from bs4 import BeautifulSoup"
   ]
  },
  {
   "cell_type": "code",
   "execution_count": 146,
   "metadata": {},
   "outputs": [],
   "source": [
    "def drop_even_columns(data):\n",
    "    data = data[data.columns[1::2]]\n",
    "    return data\n",
    "\n",
    "\n",
    "def select(data, columns):\n",
    "    data = data[columns]\n",
    "    return data\n",
    "\n",
    "\n",
    "def rename_columns(data):\n",
    "    columns = ['world', 'players', 'location', 'type', 'activity']\n",
    "    new_columns = dict(zip(data.columns, columns))\n",
    "    renamed_data = data.rename(columns=new_columns)\n",
    "    return renamed_data\n",
    "\n",
    "\n",
    "def get_content(column, index=0):\n",
    "    content = column.apply(lambda tag: tag.contents[index])\n",
    "    return content\n",
    "\n",
    "\n",
    "def get_contents(data):\n",
    "    data['world'] = get_content(data['world'], index=1)\n",
    "    for column in data.columns:\n",
    "        data[column] = get_content(data[column])\n",
    "        \n",
    "    return data\n",
    "\n",
    "\n",
    "def get_number(string):\n",
    "    pattern = re.compile(r'\\d+')\n",
    "    match = re.search(pattern, string)\n",
    "    number = match.group(0)\n",
    "    return number\n",
    "\n",
    "\n",
    "def get_numbers(data):\n",
    "    columns = ['world', 'players']\n",
    "    for column in columns:\n",
    "        data[column] = data[column].apply(get_number)\n",
    "        data[column] = data[column].astype(np.int16)\n",
    "\n",
    "    return data\n",
    "\n",
    "\n",
    "def transform_data(data, columns):\n",
    "    data = data.copy()\n",
    "    transformed_data = (\n",
    "        data.pipe(drop_even_columns)\n",
    "            .pipe(rename_columns)\n",
    "            .pipe(get_contents)\n",
    "            .pipe(get_numbers)\n",
    "            .pipe(select, columns=columns)\n",
    "    )\n",
    "    return transformed_data"
   ]
  },
  {
   "cell_type": "code",
   "execution_count": 4,
   "metadata": {},
   "outputs": [],
   "source": [
    "with open('osrs_worlds.html', 'rb') as page:\n",
    "    page_content = page.read()\n",
    "    soup = BeautifulSoup(page_content, 'lxml')"
   ]
  },
  {
   "cell_type": "code",
   "execution_count": 143,
   "metadata": {},
   "outputs": [],
   "source": [
    "row_data = soup.findAll('tr', {'class':'server-list__row'})\n",
    "zeta = pd.DataFrame(np.array(row_data, dtype=object))"
   ]
  },
  {
   "cell_type": "code",
   "execution_count": 147,
   "metadata": {
    "scrolled": true
   },
   "outputs": [
    {
     "data": {
      "text/html": [
       "<div>\n",
       "<style scoped>\n",
       "    .dataframe tbody tr th:only-of-type {\n",
       "        vertical-align: middle;\n",
       "    }\n",
       "\n",
       "    .dataframe tbody tr th {\n",
       "        vertical-align: top;\n",
       "    }\n",
       "\n",
       "    .dataframe thead th {\n",
       "        text-align: right;\n",
       "    }\n",
       "</style>\n",
       "<table border=\"1\" class=\"dataframe\">\n",
       "  <thead>\n",
       "    <tr style=\"text-align: right;\">\n",
       "      <th></th>\n",
       "      <th>world</th>\n",
       "      <th>players</th>\n",
       "    </tr>\n",
       "  </thead>\n",
       "  <tbody>\n",
       "    <tr>\n",
       "      <th>0</th>\n",
       "      <td>168</td>\n",
       "      <td>85</td>\n",
       "    </tr>\n",
       "    <tr>\n",
       "      <th>1</th>\n",
       "      <td>117</td>\n",
       "      <td>179</td>\n",
       "    </tr>\n",
       "    <tr>\n",
       "      <th>2</th>\n",
       "      <td>183</td>\n",
       "      <td>181</td>\n",
       "    </tr>\n",
       "  </tbody>\n",
       "</table>\n",
       "</div>"
      ],
      "text/plain": [
       "   world  players\n",
       "0    168       85\n",
       "1    117      179\n",
       "2    183      181"
      ]
     },
     "execution_count": 147,
     "metadata": {},
     "output_type": "execute_result"
    }
   ],
   "source": [
    "transformed_data = transform_data(zeta, columns=['world', 'players'])\n",
    "transformed_data.head(3)"
   ]
  },
  {
   "cell_type": "code",
   "execution_count": 158,
   "metadata": {},
   "outputs": [
    {
     "data": {
      "text/html": [
       "<div>\n",
       "<style scoped>\n",
       "    .dataframe tbody tr th:only-of-type {\n",
       "        vertical-align: middle;\n",
       "    }\n",
       "\n",
       "    .dataframe tbody tr th {\n",
       "        vertical-align: top;\n",
       "    }\n",
       "\n",
       "    .dataframe thead th {\n",
       "        text-align: right;\n",
       "    }\n",
       "</style>\n",
       "<table border=\"1\" class=\"dataframe\">\n",
       "  <thead>\n",
       "    <tr style=\"text-align: right;\">\n",
       "      <th></th>\n",
       "      <th>world</th>\n",
       "      <th>location</th>\n",
       "      <th>type</th>\n",
       "      <th>activity</th>\n",
       "    </tr>\n",
       "  </thead>\n",
       "  <tbody>\n",
       "    <tr>\n",
       "      <th>0</th>\n",
       "      <td>168</td>\n",
       "      <td>United States</td>\n",
       "      <td>Free</td>\n",
       "      <td>500 skill total</td>\n",
       "    </tr>\n",
       "    <tr>\n",
       "      <th>1</th>\n",
       "      <td>117</td>\n",
       "      <td>United States</td>\n",
       "      <td>Free</td>\n",
       "      <td>-</td>\n",
       "    </tr>\n",
       "    <tr>\n",
       "      <th>2</th>\n",
       "      <td>183</td>\n",
       "      <td>United States</td>\n",
       "      <td>Free</td>\n",
       "      <td>-</td>\n",
       "    </tr>\n",
       "    <tr>\n",
       "      <th>3</th>\n",
       "      <td>94</td>\n",
       "      <td>United States</td>\n",
       "      <td>Free</td>\n",
       "      <td>Clan Wars - Free</td>\n",
       "    </tr>\n",
       "    <tr>\n",
       "      <th>4</th>\n",
       "      <td>170</td>\n",
       "      <td>United States</td>\n",
       "      <td>Free</td>\n",
       "      <td>-</td>\n",
       "    </tr>\n",
       "    <tr>\n",
       "      <th>...</th>\n",
       "      <td>...</td>\n",
       "      <td>...</td>\n",
       "      <td>...</td>\n",
       "      <td>...</td>\n",
       "    </tr>\n",
       "    <tr>\n",
       "      <th>258</th>\n",
       "      <td>88</td>\n",
       "      <td>Australia</td>\n",
       "      <td>Members</td>\n",
       "      <td>Theatre of Blood</td>\n",
       "    </tr>\n",
       "    <tr>\n",
       "      <th>259</th>\n",
       "      <td>124</td>\n",
       "      <td>Australia</td>\n",
       "      <td>Members</td>\n",
       "      <td>Blast Furnace</td>\n",
       "    </tr>\n",
       "    <tr>\n",
       "      <th>260</th>\n",
       "      <td>87</td>\n",
       "      <td>Australia</td>\n",
       "      <td>Members</td>\n",
       "      <td>Blast Furnace</td>\n",
       "    </tr>\n",
       "    <tr>\n",
       "      <th>261</th>\n",
       "      <td>89</td>\n",
       "      <td>Australia</td>\n",
       "      <td>Members</td>\n",
       "      <td>Wintertodt</td>\n",
       "    </tr>\n",
       "    <tr>\n",
       "      <th>262</th>\n",
       "      <td>90</td>\n",
       "      <td>Australia</td>\n",
       "      <td>Members</td>\n",
       "      <td>LMS Competitive</td>\n",
       "    </tr>\n",
       "  </tbody>\n",
       "</table>\n",
       "<p>263 rows × 4 columns</p>\n",
       "</div>"
      ],
      "text/plain": [
       "     world       location     type          activity\n",
       "0      168  United States     Free   500 skill total\n",
       "1      117  United States     Free                 -\n",
       "2      183  United States     Free                 -\n",
       "3       94  United States     Free  Clan Wars - Free\n",
       "4      170  United States     Free                 -\n",
       "..     ...            ...      ...               ...\n",
       "258     88      Australia  Members  Theatre of Blood\n",
       "259    124      Australia  Members     Blast Furnace\n",
       "260     87      Australia  Members     Blast Furnace\n",
       "261     89      Australia  Members        Wintertodt\n",
       "262     90      Australia  Members   LMS Competitive\n",
       "\n",
       "[263 rows x 4 columns]"
      ]
     },
     "execution_count": 158,
     "metadata": {},
     "output_type": "execute_result"
    }
   ],
   "source": [
    "world_info = transform_data(zeta, columns=['world', 'location', 'type', 'activity'])\n",
    "world_info"
   ]
  }
 ],
 "metadata": {
  "kernelspec": {
   "display_name": "Python 3",
   "language": "python",
   "name": "python3"
  },
  "language_info": {
   "codemirror_mode": {
    "name": "ipython",
    "version": 3
   },
   "file_extension": ".py",
   "mimetype": "text/x-python",
   "name": "python",
   "nbconvert_exporter": "python",
   "pygments_lexer": "ipython3",
   "version": "3.9.1"
  }
 },
 "nbformat": 4,
 "nbformat_minor": 4
}
