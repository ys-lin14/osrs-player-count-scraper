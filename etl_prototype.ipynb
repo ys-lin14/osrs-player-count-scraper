{
 "cells": [
  {
   "cell_type": "code",
   "execution_count": null,
   "metadata": {},
   "outputs": [],
   "source": [
    "# world, players, location, type, activity\n",
    "\n",
    "# 1 - extract 'world', 'location', 'type', 'activity'\n",
    "# 2 - extract 'world', 'datetime', 'players'"
   ]
  },
  {
   "cell_type": "code",
   "execution_count": 1,
   "metadata": {},
   "outputs": [],
   "source": [
    "import locale\n",
    "import numpy as np\n",
    "import pandas as pd\n",
    "import re\n",
    "import requests\n",
    "\n",
    "from bs4 import BeautifulSoup\n",
    "from datetime import datetime"
   ]
  },
  {
   "cell_type": "code",
   "execution_count": 12,
   "metadata": {},
   "outputs": [],
   "source": [
    "def scrape_osrs_world_select():    \n",
    "    world_select_url = ('https://oldschool.runescape.com/slu')\n",
    "    response = requests.get(world_select_url)\n",
    "    return response\n",
    "\n",
    "def extract_world_data(response):\n",
    "    soup = BeautifulSoup(response.text, 'lxml')\n",
    "    data = soup.findAll('tr', {'class':'server-list__row'})\n",
    "    data = pd.DataFrame(np.array(data, dtype=object))\n",
    "    return data\n",
    "\n",
    "def extract_total_player_data(response):\n",
    "    soup = BeautifulSoup(response.text, 'lxml')\n",
    "    data = soup.find('p')\n",
    "    data = pd.DataFrame(data, columns=['player_count'])\n",
    "    return data"
   ]
  },
  {
   "cell_type": "code",
   "execution_count": 10,
   "metadata": {},
   "outputs": [],
   "source": [
    "def drop_even_columns(data):\n",
    "    data = data[data.columns[1::2]]\n",
    "    return data\n",
    "\n",
    "\n",
    "def select(data, columns):\n",
    "    data = data[columns]\n",
    "    return data\n",
    "\n",
    "\n",
    "def rename_columns(data):\n",
    "    columns = ['world', 'players', 'location', 'type', 'activity']\n",
    "    new_columns = dict(zip(data.columns, columns))\n",
    "    renamed_data = data.rename(columns=new_columns)\n",
    "    return renamed_data\n",
    "\n",
    "\n",
    "def add_datetime_column(data, dt):\n",
    "    data['datetime'] = dt\n",
    "    return data\n",
    "\n",
    "\n",
    "def get_content(tag, index=0):\n",
    "    try:\n",
    "        content = tag.contents[index]\n",
    "    except:\n",
    "        content = np.nan\n",
    "\n",
    "    return content\n",
    "\n",
    "\n",
    "def get_contents(data):\n",
    "    data['world'] = data['world'].apply(lambda t: get_content(t, index=1))\n",
    "    \n",
    "    for column in data.columns:\n",
    "        data[column] = data[column].apply(lambda t: get_content(t))\n",
    "        \n",
    "    return data\n",
    "\n",
    "\n",
    "def get_match(pattern, string):\n",
    "    try:\n",
    "        match = re.search(pattern, string).group(0)\n",
    "    except:\n",
    "        match = np.nan\n",
    "    return match\n",
    "\n",
    "\n",
    "def get_total_player_count(data):\n",
    "    # pattern adapted from https://stackoverflow.com/questions/5917082/\n",
    "    locale.setlocale(locale.LC_ALL, '')\n",
    "    pattern = r'\\d{1,3}(,\\d{3})*'\n",
    "    player_count = data.loc[0, 'player_count']\n",
    "    player_count = get_match(pattern, player_count)\n",
    "    data.loc[0, 'player_count'] = locale.atoi(player_count)\n",
    "    return data\n",
    "\n",
    "\n",
    "def get_numbers(data):\n",
    "    columns = ['world', 'players']\n",
    "    pattern = re.compile(r'\\d+')\n",
    "    for column in columns:\n",
    "        data[column] = data[column].apply(lambda s: get_match(pattern, s))\n",
    "        try:\n",
    "            data[column] = data[column].astype(np.int16)\n",
    "        except:\n",
    "            data[column] = data[column].astype(np.float)\n",
    "\n",
    "    return data\n",
    "\n",
    "\n",
    "def transform_world_data(data, dt, columns):\n",
    "    data = data.copy()\n",
    "    transformed_data = (\n",
    "        data.pipe(drop_even_columns)\n",
    "            .pipe(rename_columns)\n",
    "            .pipe(get_contents)\n",
    "            .pipe(get_numbers)\n",
    "            .pipe(add_datetime_column, dt=dt)\n",
    "            .pipe(select, columns=columns)\n",
    "    )\n",
    "    return transformed_data\n",
    "\n",
    "\n",
    "def transform_total_player_data(data, dt):\n",
    "    data = data.copy()\n",
    "    transformed_data = (\n",
    "        data.pipe(get_total_player_count)\n",
    "            .pipe(add_datetime_column, dt=dt)\n",
    "            .pipe(select, columns=['datetime', 'player_count'])\n",
    "    )\n",
    "    return transformed_data"
   ]
  },
  {
   "cell_type": "code",
   "execution_count": null,
   "metadata": {},
   "outputs": [],
   "source": [
    "with open('osrs_worlds.html', 'rb') as page:\n",
    "    page_content = page.read()\n",
    "    soup = BeautifulSoup(page_content, 'lxml')"
   ]
  },
  {
   "cell_type": "code",
   "execution_count": null,
   "metadata": {},
   "outputs": [],
   "source": [
    "# check logs, if last request was successful, get datetime and make new request"
   ]
  },
  {
   "cell_type": "code",
   "execution_count": 4,
   "metadata": {},
   "outputs": [],
   "source": [
    "dt = datetime.now()\n",
    "response = scrape_osrs_world_select()"
   ]
  },
  {
   "cell_type": "code",
   "execution_count": 5,
   "metadata": {},
   "outputs": [
    {
     "name": "stdout",
     "output_type": "stream",
     "text": [
      "True\n",
      "200\n"
     ]
    }
   ],
   "source": [
    "# check response, if response.ok, etl\n",
    "print(response.ok)\n",
    "print(response.status_code)"
   ]
  },
  {
   "cell_type": "code",
   "execution_count": 15,
   "metadata": {},
   "outputs": [],
   "source": [
    "world_data = extract_world_data(response)\n",
    "total_player_data = extract_total_player_data(response)\n",
    "\n",
    "transformed_world_data = transform_world_data(world_data, dt=dt, columns=['datetime', 'world', 'players'])\n",
    "transformed_total_player_data = transform_total_player_data(total_player_data, dt)\n",
    "\n",
    "# load world_data\n",
    "# load total_player_data"
   ]
  },
  {
   "cell_type": "code",
   "execution_count": null,
   "metadata": {},
   "outputs": [],
   "source": [
    "# endif\n",
    "# update_logs"
   ]
  },
  {
   "cell_type": "code",
   "execution_count": null,
   "metadata": {},
   "outputs": [],
   "source": [
    "world_info = transform_world_data(world_data, columns=['world', 'location', 'type', 'activity'], dt=None)\n",
    "world_info"
   ]
  },
  {
   "cell_type": "code",
   "execution_count": null,
   "metadata": {},
   "outputs": [],
   "source": [
    "# transformed_data['players'].sum()\n",
    "# transformed_data[transformed_data['world'] == 30]"
   ]
  }
 ],
 "metadata": {
  "kernelspec": {
   "display_name": "Python 3",
   "language": "python",
   "name": "python3"
  },
  "language_info": {
   "codemirror_mode": {
    "name": "ipython",
    "version": 3
   },
   "file_extension": ".py",
   "mimetype": "text/x-python",
   "name": "python",
   "nbconvert_exporter": "python",
   "pygments_lexer": "ipython3",
   "version": "3.9.1"
  }
 },
 "nbformat": 4,
 "nbformat_minor": 4
}
